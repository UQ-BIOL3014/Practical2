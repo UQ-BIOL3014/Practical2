{
 "cells": [
  {
   "cell_type": "markdown",
   "metadata": {},
   "source": [
    "IPython notebook created by BIOL3014/BINF7000 course staff. Material is derived from 2014-? Practical 2.\n",
    "\n",
    "Bug fixes: m.stantoncook@uq.edu.au, m.boden@uq.edu.au\n",
    "\n",
    "Source: https://github.com/UQ-BIOL3014/Practical2\n",
    "\n",
    "---"
   ]
  },
  {
   "cell_type": "markdown",
   "metadata": {},
   "source": [
    "# BIOL3014/BINF700 Practical 2\n",
    "\n",
    "## Probabilistic motif discovery\n",
    "---\n",
    "\n",
    "* **Due:** 11AM 12/08/2015\n",
    "* **Revision:** 1\n",
    "* **Marks:** \n",
    "    * **BIOL3014** - 8 marks. \n",
    "    * **BINF7000** - 12 marks.\n",
    "---\n",
    "\n",
    "\n",
    "### Objectives \n",
    "\n",
    "Below are a number of exercises that aim to guide you through issues and help you understand concepts related primarily to:\n",
    "* Motif discovery\n",
    "* Gene ontology\n",
    "* Statistical testing (BINF7000)\n",
    "\n",
    "---\n",
    "\n",
    "\n",
    "### Submission requirements\n",
    "\n",
    "Please export this IPython notebook (with written answers & completed code) to `STUDENTNUMBER_P2.ipynb` notebook and submit it via the BlackBoard portal.\n",
    "\n",
    "----\n",
    "\n",
    "\n",
    "### Resources\n",
    "\n",
    "#### Python resources:\n",
    "* The UQ Bioinformatics Python Guide (on Blackboard)\n",
    "* The [python 2 documentation]. For those unfamiliar with Python the [official tutorial] is recommended\n",
    "* The software carpentry [novice python lessons]\n",
    "\n",
    "[python 2 documentation]: https://docs.python.org/2/\n",
    "[offical tutorial]: https://docs.python.org/2/tutorial/index.html\n",
    "[novice python lessons]: http://swcarpentry.github.io/python-novice-inflammation/\n",
    "\n",
    "#### Other:\n",
    "* [Markdown cheatsheet]\n",
    "\n",
    "[Markdown cheatsheet]: https://github.com/adam-p/markdown-here/wiki/Markdown-Here-Cheatsheet#links\n",
    "\n",
    "---"
   ]
  },
  {
   "cell_type": "markdown",
   "metadata": {},
   "source": [
    "## Part 1 (questions 1-4, 8 marks) ##\n",
    "The target workload for Part 1 corresponds roughly to two hours of practical work. This work should ideally be completed within the next scheduled computer lab session (supported by a tutor or lecturer), and two-three hours of additional work that should be completed during unscheduled time. Part 2 and 3 are for BINF7000 students only.\n",
    "\n",
    "We will be using the custom `uqbinfpy` Python modules for this practical. The `uqbinfpy` library is available at [GitHub]. Data files are available on Blackboard under the \"Practicals/workshops\" tab, as well as at [GitHub].\n",
    "\n",
    "[GitHub]: https://github.com/UQ-BIOL3014/\n",
    "\n",
    "You should have installed the uqbinfpy library during Practical 1.\n",
    "\n",
    "Import the following modules into Python:\n",
    "\n",
    "\n",
    "```python\n",
    "   from uqbinfpy import sequence\n",
    "   from uqbinfpy import prob\n",
    "   from uqbinfpy import seqsymbol\n",
    "   from uqbinfpy import webservice\n",
    "   from uqbinfpy import godata\n",
    "```"
   ]
  },
  {
   "cell_type": "markdown",
   "metadata": {},
   "source": [
    "### Exercise 1 (1 marks) ###\n",
    "\n",
    "Create a “background distribution” of amino acids that is suited for scoring motifs in human protein sequences. First, consider the background used for constructing BLOSUM62 (a popular substitution matrix) by downloading and viewing `blosum62.distrib`. This file can be read using the method `readDistrib` in `prob.py`. \n",
    "\n",
    "```python\n",
    "   bg = sequence.readDistrib('blosum62.distrib')\n",
    "```\n",
    "\n",
    "Second, construct your own from the human protein reference database (HPRD; a copy in FASTA format `HPRD.fa` is available with UniProt identifiers within the course Python code). \n",
    "\n",
    "Compare the backgrounds, and report if the same amino acids are the most probable and the least probable. Enter your written response into the cell labelled *Exercise 1.* This is a markdown cell. For formatting options see the [Markdown cheatsheet].\n",
    "\n",
    "[Markdown cheatsheet]: https://github.com/adam-p/markdown-here/wiki/Markdown-Here-Cheatsheet\n",
    "\n",
    "#### Tips: #### \n",
    "* An instance of the class `Distrib` can be inspected like so:\n",
    "\n",
    "```python\n",
    "   print bg # refers to __str__ defined for Distrib in prob.py\n",
    "```\n",
    "\n",
    "* Save the background distribution from HPRD in a file named `HPRD.distrib` using the `writeDistrib` method:\n",
    "\n",
    "```python\n",
    "   bg.writeDistrib('HPRD.distrib')\n",
    "```"
   ]
  },
  {
   "cell_type": "markdown",
   "metadata": {},
   "source": [
    "*Exercise 1. *"
   ]
  },
  {
   "cell_type": "markdown",
   "metadata": {},
   "source": [
    "---\n",
    "\n",
    "Helix-turn-helix (HTH) is a 20+ residue long DNA binding signature found in many transcription factors - proteins that regulate gene expression. An example structure is depicted on the right. See more at http://en.wikipedia.org/wiki/Helix-turn-helix.\n"
   ]
  },
  {
   "cell_type": "markdown",
   "metadata": {},
   "source": [
    "## Exercise 2 ( 1 marks) ##\n",
    "\n",
    "`hth_40.fa` contains 40 human HTH proteins. Look one up in Uniprot to see where the domain is located. Provide the accession identifier and sequence in the Markdown cell labelled *Exercise 2* and mark the HTH domain. \n",
    "\n",
    "**Note**: not all exemplars will be annotated with domains on Uniprot, but some will."
   ]
  },
  {
   "cell_type": "markdown",
   "metadata": {},
   "source": [
    "*Exercise 2*"
   ]
  },
  {
   "cell_type": "markdown",
   "metadata": {},
   "source": [
    "---\n",
    "\n",
    "## Exercise 3 ( 2 marks) ##\n",
    "\n",
    "Run motif discovery by Gibbs sampling on this data a few times. The code below is a simple example of how the Gibbs sampler can be used:\n",
    "\n",
    "\n",
    "```python\n",
    "   from uqbinfpy import gibbs\n",
    "\n",
    "   seqs = sequence.readFastaFile('hth_40.fa', seqsymbol.Protein_Alphabet)\n",
    "   W = 24 # the width of the motif sought\n",
    "   g = gibbs.GibbsMotif(seqs, W)\n",
    "   q = g.discover()\n",
    "   p = g.getBackground()\n",
    "   a = gibbs.getAlignment(seqs, q, p)\n",
    "   k = 0\n",
    "   for seq in seqs:\n",
    "      print \"%s \\t%s\" % (seq.name, seq[a[k]:a[k]+W])\n",
    "      k += 1\n",
    "```\n",
    "\n",
    "### Part 1)\n",
    "\n",
    "Copy the above code and add comments explaining what the variables `seqs`, `g`, `q`, `p` and `a` represent (as an example, a comment has already been added to the variable `W`).\n",
    "\n",
    "Enter your code into the cell labelled *Exercise 3, part 1*.\n",
    "\n",
    "\n",
    "### Part 2)\n",
    "\n",
    "Try at least three times and also with three different window sizes (`W`). Compare the outcomes of different runs. You should do this by visually comparing motifs using [WebLogo], which takes an alignment like that printed in the code example above. \n",
    "\n",
    "[WebLogo]: http://weblogo.berkeley.edu\n",
    "\n",
    "Inspect and report the potential overlap between the three motifs found. Enter your written response into the markdown cell labelled *Exercise 3, part 2*. \n",
    "\n",
    "Select one of your motifs (the one with the highest log-odd score) and save it to a file:\n",
    "\n",
    "```python\n",
    "   prob.writeDistribs(q, 'hth_q.distrib')\n",
    "   p.writeDistrib('hth_p.distrib')\n",
    "```\n",
    "\n",
    "Note that we use two files: one for the foreground and one for the background. Look in the files to understand the format (foreground has many distributions - one for each position; background has only one).\n"
   ]
  },
  {
   "cell_type": "code",
   "execution_count": 2,
   "metadata": {
    "collapsed": true
   },
   "outputs": [],
   "source": [
    "# Exercise 3, part 1"
   ]
  },
  {
   "cell_type": "markdown",
   "metadata": {},
   "source": [
    "*Exercise 3, part 2* "
   ]
  },
  {
   "cell_type": "markdown",
   "metadata": {
    "collapsed": true
   },
   "source": [
    "---\n",
    "\n",
    "## Exercise 4  ( 4 marks) ##\n",
    "\n",
    "You are now going to construct position specific scoring matrices (log-odd matrices), otherwise also called “position weight matrices” (PWMs). Construct PWMs from the probabilities defining your motif, using different definitions of background (you constructed two above, then the background in Gibbs is based on the training sequences excluding the motifs). The class `PWM` is defined in `sequence.py` module.\n",
    "\n",
    "```python\n",
    "   pwm = sequence.PWM(q, p)\n",
    "```\n",
    "\n",
    "### Part 1) ###\n",
    "Use your PWMs to search for occurrences in the human protein set. Pick a few in your list of predictions, make sure they do not already occur in your “discovery set”, and look in their respective Uniprot entries. Are they likely to have a HTH domain? Enter your response into the markdown cell labelled *Exercise 4, part 1*.\n",
    "\n",
    "### Part 2) ###\n",
    "\n",
    "Investigate the GO terms of all your predictions as exemplified below. Note that the example only looks at the first hit in sequences with one or more matches, whereas you need to investigate all your predictions. Enter your code into the cell labelled *Exercise 4, part 2*.\n",
    "\n",
    "```python\n",
    "   ids = []\n",
    "   seqs = sequence.readFastaFile('HPRD.fa', Protein_Alphabet)\n",
    "   for seq in seqs:\n",
    "      hits = pwm.search(seq)\n",
    "      if len(hits) > 0:\n",
    "         print \"%s \\t%d \\t%s \\t%5.3f\" % (seq.name, hits[0][0], hits[0][1], hits[0][2])\n",
    "         ids.append(seq.name)\n",
    "   report = godata.getGOReport(ids) \n",
    "   for row in report:\n",
    "      print \"%s \\t%d \\t%s\" % row\n",
    "```\n",
    "\n",
    "### Part 3) ###\n",
    "What is the function of the discovered motif according to your analysis? Use examples from your GO term analysis to support your argument. Enter your response into the markdown cell labelled *Exercise 4, part 3*.\n"
   ]
  },
  {
   "cell_type": "markdown",
   "metadata": {},
   "source": [
    "*Exercise 4, part 1*"
   ]
  },
  {
   "cell_type": "code",
   "execution_count": 3,
   "metadata": {
    "collapsed": true
   },
   "outputs": [],
   "source": [
    "# Exercise 4, part 2"
   ]
  },
  {
   "cell_type": "markdown",
   "metadata": {},
   "source": [
    "*Exercise 4, part 3*"
   ]
  },
  {
   "cell_type": "markdown",
   "metadata": {},
   "source": [
    "---"
   ]
  }
 ],
 "metadata": {
  "kernelspec": {
   "display_name": "Python 2",
   "language": "python",
   "name": "python2"
  },
  "language_info": {
   "codemirror_mode": {
    "name": "ipython",
    "version": 2
   },
   "file_extension": ".py",
   "mimetype": "text/x-python",
   "name": "python",
   "nbconvert_exporter": "python",
   "pygments_lexer": "ipython2",
   "version": "2.7.8"
  }
 },
 "nbformat": 4,
 "nbformat_minor": 0
}
